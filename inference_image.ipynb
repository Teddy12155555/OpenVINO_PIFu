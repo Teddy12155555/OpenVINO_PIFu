{
 "cells": [
  {
   "cell_type": "code",
   "execution_count": 1,
   "metadata": {},
   "outputs": [],
   "source": [
    "# !pip3 install rembg\n",
    "# !pip3 install torch==1.7.1+cpu torchvision==0.8.2+cpu -f https://download.pytorch.org/whl/torch_stable.html\n",
    "# !pip3 install scikit-image\n",
    "# !pip3 install opencv-python\n",
    "# !pip3 install numpy\n",
    "# !pip3 install openvino"
   ]
  },
  {
   "cell_type": "code",
   "execution_count": 2,
   "metadata": {},
   "outputs": [],
   "source": [
    "import cv2\n",
    "import numpy as np\n",
    "from rembg import remove"
   ]
  },
  {
   "cell_type": "code",
   "execution_count": 3,
   "metadata": {},
   "outputs": [],
   "source": [
    "image_source = \"./source.jpg\"\n",
    "image_save = \"./image.png\"\n",
    "mask_save = \"./mask.png\"\n",
    "model_save = \"./model.obj\"    "
   ]
  },
  {
   "cell_type": "code",
   "execution_count": 4,
   "metadata": {},
   "outputs": [],
   "source": [
    "img = cv2.imread(image_source,cv2.IMREAD_COLOR)\n",
    "img = remove(img)\n",
    "img = cv2.resize(img,(int(img.shape[1]/img.shape[0]*512),512))"
   ]
  },
  {
   "cell_type": "code",
   "execution_count": 5,
   "metadata": {},
   "outputs": [],
   "source": [
    "def GenerateMask(img):\n",
    "    mask = (img[:,:,3] > 0) * np.uint8(1)\n",
    "    mask = cv2.erode(mask,  cv2.getStructuringElement(cv2.MORPH_RECT, (3,3),(1,1)))\n",
    "    mask = cv2.dilate(mask,  cv2.getStructuringElement(cv2.MORPH_RECT, (3,3),(1,1)))\n",
    "    return mask\n",
    "    \n",
    "def Padding(size,img):\n",
    "    if(len(img.shape) > 2):\n",
    "        size = (size[0],size[1],img.shape[2])\n",
    "    ret = np.zeros(size,dtype=np.uint8)\n",
    "    ratio = img.shape[0]/img.shape[1]\n",
    "    if(ratio > 0):\n",
    "        img = cv2.resize(img,(int(ret.shape[0]/ratio),ret.shape[0]))\n",
    "    else:\n",
    "        img = cv2.resize(img,(ret.shape[1],int(ret.shape[1]*ratio)))\n",
    "    c_y=ret.shape[0]//2\n",
    "    c_x=ret.shape[1]//2\n",
    "    _c_y = img.shape[0]//2\n",
    "    _c_x = img.shape[1]//2\n",
    "    for y in range(img.shape[0]):\n",
    "        for x in range(img.shape[1]):\n",
    "            ret[c_y+(y-_c_y),c_x+(x-_c_x)] = img[y,x]\n",
    "    return ret"
   ]
  },
  {
   "cell_type": "code",
   "execution_count": 6,
   "metadata": {},
   "outputs": [],
   "source": [
    "\n",
    "img =  Padding((512,512),img)\n",
    "mask =  Padding((512,512),GenerateMask(img)*np.uint8(255))"
   ]
  },
  {
   "cell_type": "code",
   "execution_count": 7,
   "metadata": {},
   "outputs": [
    {
     "data": {
      "text/plain": [
       "True"
      ]
     },
     "execution_count": 7,
     "metadata": {},
     "output_type": "execute_result"
    }
   ],
   "source": [
    "cv2.imwrite(image_save,img)\n",
    "cv2.imwrite(mask_save,mask)"
   ]
  },
  {
   "cell_type": "code",
   "execution_count": 8,
   "metadata": {},
   "outputs": [
    {
     "name": "stdout",
     "output_type": "stream",
     "text": [
      "Init OpenVINO....\n",
      "Start to 3D reconstruction...\n"
     ]
    }
   ],
   "source": [
    "from inference import Create3DModel\n",
    "\n",
    "Create3DModel(image_save,mask_save,model_save)"
   ]
  },
  {
   "cell_type": "code",
   "execution_count": null,
   "metadata": {},
   "outputs": [],
   "source": []
  }
 ],
 "metadata": {
  "interpreter": {
   "hash": "54f365b7306695caea8536f3e643a18bd1efdc95abf2ae56e6c2ef93599fa810"
  },
  "kernelspec": {
   "display_name": "Python 3.9.13 64-bit",
   "language": "python",
   "name": "python3"
  },
  "language_info": {
   "codemirror_mode": {
    "name": "ipython",
    "version": 3
   },
   "file_extension": ".py",
   "mimetype": "text/x-python",
   "name": "python",
   "nbconvert_exporter": "python",
   "pygments_lexer": "ipython3",
   "version": "3.9.13"
  }
 },
 "nbformat": 4,
 "nbformat_minor": 2
}
