{
 "cells": [
  {
   "cell_type": "code",
   "execution_count": 5,
   "metadata": {},
   "outputs": [
    {
     "name": "stdout",
     "output_type": "stream",
     "text": [
      "Requirement already satisfied: opencv-python in /home/teddy/anaconda3/envs/ex_pifu/lib/python3.8/site-packages (4.5.5.64)\n",
      "Requirement already satisfied: numpy>=1.14.5 in /home/teddy/anaconda3/envs/ex_pifu/lib/python3.8/site-packages (from opencv-python) (1.19.5)\n",
      "Requirement already satisfied: numpy in /home/teddy/anaconda3/envs/ex_pifu/lib/python3.8/site-packages (1.19.5)\n",
      "Requirement already satisfied: cvzone in /home/teddy/anaconda3/envs/ex_pifu/lib/python3.8/site-packages (1.5.6)\n",
      "Requirement already satisfied: opencv-python in /home/teddy/anaconda3/envs/ex_pifu/lib/python3.8/site-packages (from cvzone) (4.5.5.64)\n",
      "Requirement already satisfied: numpy in /home/teddy/anaconda3/envs/ex_pifu/lib/python3.8/site-packages (from cvzone) (1.19.5)\n",
      "Requirement already satisfied: mediapipe in /home/teddy/anaconda3/envs/ex_pifu/lib/python3.8/site-packages (0.8.10)\n",
      "Requirement already satisfied: opencv-contrib-python in /home/teddy/anaconda3/envs/ex_pifu/lib/python3.8/site-packages (from mediapipe) (4.5.5.64)\n",
      "Requirement already satisfied: attrs>=19.1.0 in /home/teddy/anaconda3/envs/ex_pifu/lib/python3.8/site-packages (from mediapipe) (21.4.0)\n",
      "Requirement already satisfied: matplotlib in /home/teddy/anaconda3/envs/ex_pifu/lib/python3.8/site-packages (from mediapipe) (3.1.3)\n",
      "Requirement already satisfied: numpy in /home/teddy/anaconda3/envs/ex_pifu/lib/python3.8/site-packages (from mediapipe) (1.19.5)\n",
      "Requirement already satisfied: protobuf>=3.11.4 in /home/teddy/anaconda3/envs/ex_pifu/lib/python3.8/site-packages (from mediapipe) (3.20.1)\n",
      "Requirement already satisfied: absl-py in /home/teddy/anaconda3/envs/ex_pifu/lib/python3.8/site-packages (from mediapipe) (1.1.0)\n",
      "Requirement already satisfied: python-dateutil>=2.1 in /home/teddy/anaconda3/envs/ex_pifu/lib/python3.8/site-packages (from matplotlib->mediapipe) (2.8.2)\n",
      "Requirement already satisfied: kiwisolver>=1.0.1 in /home/teddy/anaconda3/envs/ex_pifu/lib/python3.8/site-packages (from matplotlib->mediapipe) (1.1.0)\n",
      "Requirement already satisfied: cycler>=0.10 in /home/teddy/anaconda3/envs/ex_pifu/lib/python3.8/site-packages (from matplotlib->mediapipe) (0.11.0)\n",
      "Requirement already satisfied: pyparsing!=2.0.4,!=2.1.2,!=2.1.6,>=2.0.1 in /home/teddy/anaconda3/envs/ex_pifu/lib/python3.8/site-packages (from matplotlib->mediapipe) (2.4.6)\n",
      "Requirement already satisfied: setuptools in /home/teddy/anaconda3/envs/ex_pifu/lib/python3.8/site-packages (from kiwisolver>=1.0.1->matplotlib->mediapipe) (58.0.4)\n",
      "Requirement already satisfied: six>=1.5 in /home/teddy/anaconda3/envs/ex_pifu/lib/python3.8/site-packages (from python-dateutil>=2.1->matplotlib->mediapipe) (1.16.0)\n",
      "Requirement already satisfied: protobuf==3.20.1 in /home/teddy/anaconda3/envs/ex_pifu/lib/python3.8/site-packages (3.20.1)\n",
      "Requirement already satisfied: openvino in /home/teddy/anaconda3/envs/ex_pifu/lib/python3.8/site-packages (2022.1.0)\n",
      "Requirement already satisfied: numpy<1.20,>=1.16.6 in /home/teddy/anaconda3/envs/ex_pifu/lib/python3.8/site-packages (from openvino) (1.19.5)\n"
     ]
    }
   ],
   "source": [
    "!pip3 install opencv-python\n",
    "!pip3 install numpy\n",
    "!pip3 install cvzone\n",
    "!pip3 install mediapipe\n",
    "!pip3 install protobuf==3.20.1\n",
    "!pip3 install openvino"
   ]
  },
  {
   "cell_type": "code",
   "execution_count": 6,
   "metadata": {},
   "outputs": [],
   "source": [
    "import cv2\n",
    "import numpy\n",
    "import openvino\n",
    "from cvzone.SelfiSegmentationModule import SelfiSegmentation\n",
    "from inference import Create3DModel"
   ]
  },
  {
   "cell_type": "code",
   "execution_count": 7,
   "metadata": {},
   "outputs": [],
   "source": [
    "# camera_location = 0 \n",
    "image_location = \"../home_images/0.jpg\"\n",
    "img = cv2.imread(image_location,cv2.IMREAD_COLOR)"
   ]
  },
  {
   "cell_type": "code",
   "execution_count": 8,
   "metadata": {},
   "outputs": [],
   "source": [
    "def GenerateMask(img):\n",
    "    mask = numpy.zeros(img.shape)\n",
    "    contours, _ = cv2.findContours(\n",
    "        cv2.cvtColor(img, cv2.COLOR_BGR2GRAY),\n",
    "        cv2.RETR_EXTERNAL,\n",
    "        cv2.CHAIN_APPROX_NONE\n",
    "    )\n",
    "    contours = sorted(contours, key=cv2.contourArea, reverse= True)\n",
    "    cv2.drawContours(mask, contours, 0, color=(1,1,1), thickness=cv2.FILLED)\n",
    "    return mask"
   ]
  },
  {
   "cell_type": "code",
   "execution_count": 25,
   "metadata": {},
   "outputs": [],
   "source": [
    "segmentor = SelfiSegmentation()\n",
    "seg_img = segmentor.removeBG(img, (0,0,0), threshold=0.99)\n"
   ]
  },
  {
   "cell_type": "code",
   "execution_count": 26,
   "metadata": {},
   "outputs": [],
   "source": [
    "img = cv2.resize(img,(512,512),cv2.INTER_AREA)\n",
    "seg_img = cv2.resize(seg_img,(512,512),cv2.INTER_AREA)"
   ]
  },
  {
   "cell_type": "code",
   "execution_count": 27,
   "metadata": {},
   "outputs": [],
   "source": [
    "mask = GenerateMask(seg_img)"
   ]
  },
  {
   "cell_type": "code",
   "execution_count": 28,
   "metadata": {},
   "outputs": [],
   "source": [
    "model_input_image = numpy.multiply(img,mask)\n",
    "model_input_mask = mask * 255"
   ]
  },
  {
   "cell_type": "code",
   "execution_count": 29,
   "metadata": {},
   "outputs": [
    {
     "data": {
      "text/plain": [
       "True"
      ]
     },
     "execution_count": 29,
     "metadata": {},
     "output_type": "execute_result"
    }
   ],
   "source": [
    "cv2.imwrite(\"./body_image.png\",model_input_image)\n",
    "cv2.imwrite(\"./body_mask.png\",model_input_mask)"
   ]
  },
  {
   "cell_type": "code",
   "execution_count": null,
   "metadata": {},
   "outputs": [],
   "source": [
    "Create3DModel(body_image_path, body_mask_path)"
   ]
  }
 ],
 "metadata": {
  "interpreter": {
   "hash": "a9db727726af8bcc6b2a0c8576d819a831cea777e35791aef72c45bea7213144"
  },
  "kernelspec": {
   "display_name": "Python 3.8.12 ('ex_pifu')",
   "language": "python",
   "name": "python3"
  },
  "language_info": {
   "codemirror_mode": {
    "name": "ipython",
    "version": 3
   },
   "file_extension": ".py",
   "mimetype": "text/x-python",
   "name": "python",
   "nbconvert_exporter": "python",
   "pygments_lexer": "ipython3",
   "version": "3.8.12"
  }
 },
 "nbformat": 4,
 "nbformat_minor": 2
}
