{
 "cells": [
  {
   "cell_type": "code",
   "execution_count": null,
   "metadata": {},
   "outputs": [],
   "source": [
    "# !pip3 install rembg\n",
    "# !pip3 install torch==1.7.1+cpu torchvision==0.8.2+cpu -f https://download.pytorch.org/whl/torch_stable.html\n",
    "# !pip3 install scikit-image\n",
    "# !pip3 install opencv-python\n",
    "# !pip3 install np\n",
    "# !pip3 install openvino"
   ]
  },
  {
   "cell_type": "code",
   "execution_count": 9,
   "metadata": {},
   "outputs": [],
   "source": [
    "import cv2\n",
    "import numpy as np\n",
    "from rembg import remove\n",
    "from inference import Create3DModel"
   ]
  },
  {
   "cell_type": "code",
   "execution_count": 10,
   "metadata": {},
   "outputs": [],
   "source": [
    "video_source = \"./vid.mp4\"\n",
    "image_save = \"./image.png\"\n",
    "mask_save = \"./mask.png\"\n",
    "model_save = \"./model.obj\"    "
   ]
  },
  {
   "cell_type": "code",
   "execution_count": 11,
   "metadata": {},
   "outputs": [],
   "source": [
    "def GenerateMask(img):\n",
    "    mask = (img[:,:,3] > 0) * np.uint8(1)\n",
    "    mask = cv2.erode(mask,  cv2.getStructuringElement(cv2.MORPH_RECT, (3,3),(1,1)))\n",
    "    mask = cv2.dilate(mask,  cv2.getStructuringElement(cv2.MORPH_RECT, (3,3),(1,1)))\n",
    "    return mask\n",
    "    \n",
    "def Padding(size,img):\n",
    "    if(len(img.shape) > 2):\n",
    "        size = (size[0],size[1],img.shape[2])\n",
    "    ret = np.zeros(size,dtype=np.uint8)\n",
    "    ratio = img.shape[0]/img.shape[1]\n",
    "    if(ratio > 0):\n",
    "        img = cv2.resize(img,(int(ret.shape[0]/ratio),ret.shape[0]))\n",
    "    else:\n",
    "        img = cv2.resize(img,(ret.shape[1],int(ret.shape[1]*ratio)))\n",
    "    c_y=ret.shape[0]//2\n",
    "    c_x=ret.shape[1]//2\n",
    "    _c_y = img.shape[0]//2\n",
    "    _c_x = img.shape[1]//2\n",
    "    ret[c_y-_c_y:c_y+img.shape[0]-_c_y,c_x-_c_x:c_x+img.shape[1]-_c_x] = img[:,:]\n",
    "    # for y in range(img.shape[0]):\n",
    "    #     for x in range(img.shape[1]):\n",
    "    #         ret[c_y+(y-_c_y),c_x+(x-_c_x)] = img[y,x]\n",
    "    return ret"
   ]
  },
  {
   "cell_type": "code",
   "execution_count": 12,
   "metadata": {},
   "outputs": [],
   "source": [
    "cam = cv2.VideoCapture(video_source)\n",
    "vw  = int(cam.get(cv2.CAP_PROP_FRAME_WIDTH))\n",
    "vh = int(cam.get(cv2.CAP_PROP_FRAME_HEIGHT))"
   ]
  },
  {
   "cell_type": "code",
   "execution_count": 13,
   "metadata": {},
   "outputs": [],
   "source": [
    "body_outline_source = cv2.imread(\"body_outline.png\",cv2.IMREAD_GRAYSCALE)\n",
    "body_outline_ratio = body_outline_source.shape[1]/body_outline_source.shape[0]\n",
    "body_outline_source = cv2.resize(\n",
    "    body_outline_source,\n",
    "    (int(body_outline_ratio*vh),vh),\n",
    "    cv2.INTER_AREA\n",
    ")"
   ]
  },
  {
   "cell_type": "code",
   "execution_count": 14,
   "metadata": {},
   "outputs": [],
   "source": [
    "video_width_center = vw//2\n",
    "body_width_center =  body_outline_source.shape[1]//2"
   ]
  },
  {
   "cell_type": "code",
   "execution_count": 15,
   "metadata": {},
   "outputs": [],
   "source": [
    "body_outline_mask = np.ones((vh,vw,3),dtype=np.uint8)\n",
    "for y in range(0,body_outline_source.shape[0],1):\n",
    "    for x in range(0,body_outline_source.shape[1],1):\n",
    "        if(body_outline_source[y,x]!=255):\n",
    "            body_outline_mask[y,video_width_center + (x - body_width_center),0] = 0\n",
    "            body_outline_mask[y,video_width_center + (x - body_width_center),1] = 0\n",
    "            body_outline_mask[y,video_width_center + (x - body_width_center),2] = 0\n",
    "body_outline_mask = Padding((512,512),body_outline_mask)\n",
    "body_outline_indicator = (1-body_outline_mask) * 255"
   ]
  },
  {
   "cell_type": "code",
   "execution_count": 16,
   "metadata": {},
   "outputs": [
    {
     "name": "stdout",
     "output_type": "stream",
     "text": [
      "Init OpenVINO....\n",
      "Start to 3D reconstruction...\n",
      "Saving model ...\n",
      "Time Cost:  29.43693350000001\n",
      "failed to grab frame\n"
     ]
    }
   ],
   "source": [
    "cv2.namedWindow(\"Camera Window\")\n",
    "img_counter = 0\n",
    "while True:\n",
    "    ret, frame = cam.read()\n",
    "    if not ret:\n",
    "        print(\"failed to grab frame\")\n",
    "        break\n",
    "\n",
    "    k = cv2.waitKey(1)\n",
    "    if k%256 == 32:\n",
    "        # SPACE pressed\n",
    "        img = remove(frame)\n",
    "        img =  Padding((512,512),img)\n",
    "        mask =  Padding((512,512),GenerateMask(img)*np.uint8(255))\n",
    "        cv2.imwrite(image_save,img)\n",
    "        cv2.imwrite(mask_save,mask)\n",
    "        Create3DModel(image_save,mask_save,model_save)\n",
    "    else:\n",
    "        frame = Padding((512,512),frame)\n",
    "        frame = np.multiply(frame,body_outline_mask) + body_outline_indicator\n",
    "        cv2.imshow(\"Camera Window\", frame)\n",
    "cam.release()\n",
    "cv2.destroyAllWindows()"
   ]
  },
  {
   "cell_type": "code",
   "execution_count": null,
   "metadata": {},
   "outputs": [],
   "source": []
  }
 ],
 "metadata": {
  "interpreter": {
   "hash": "54f365b7306695caea8536f3e643a18bd1efdc95abf2ae56e6c2ef93599fa810"
  },
  "kernelspec": {
   "display_name": "Python 3.9.13 64-bit",
   "language": "python",
   "name": "python3"
  },
  "language_info": {
   "codemirror_mode": {
    "name": "ipython",
    "version": 3
   },
   "file_extension": ".py",
   "mimetype": "text/x-python",
   "name": "python",
   "nbconvert_exporter": "python",
   "pygments_lexer": "ipython3",
   "version": "3.9.13"
  }
 },
 "nbformat": 4,
 "nbformat_minor": 2
}
