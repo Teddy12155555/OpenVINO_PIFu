{
 "cells": [
  {
   "cell_type": "code",
   "execution_count": null,
   "metadata": {},
   "outputs": [],
   "source": [
    "!pip3 install opencv-python\n",
    "!pip3 install numpy\n",
    "!pip3 install cvzone\n",
    "!pip3 install mediapipe\n",
    "!pip3 install protobuf==3.20.1\n",
    "!pip3 install openvino"
   ]
  },
  {
   "cell_type": "code",
   "execution_count": null,
   "metadata": {},
   "outputs": [],
   "source": [
    "import cv2\n",
    "import numpy\n",
    "import openvino\n",
    "from cvzone.SelfiSegmentationModule import SelfiSegmentation"
   ]
  },
  {
   "cell_type": "code",
   "execution_count": null,
   "metadata": {},
   "outputs": [],
   "source": [
    "# camera_location = 0 \n",
    "camera_location = \"vid.mp4\"\n",
    "cam = cv2.VideoCapture(camera_location)\n",
    "vw  = int(cam.get(cv2.CAP_PROP_FRAME_WIDTH))\n",
    "vh = int(cam.get(cv2.CAP_PROP_FRAME_HEIGHT))"
   ]
  },
  {
   "cell_type": "code",
   "execution_count": null,
   "metadata": {},
   "outputs": [],
   "source": [
    "body_outline_source = cv2.imread(\"body_outline.png\",cv2.IMREAD_GRAYSCALE)\n",
    "body_outline_ratio = body_outline_source.shape[1]/body_outline_source.shape[0]\n",
    "body_outline_source = cv2.resize(\n",
    "    body_outline_source,\n",
    "    (int(body_outline_ratio*vh),vh),\n",
    "    cv2.INTER_AREA\n",
    ")"
   ]
  },
  {
   "cell_type": "code",
   "execution_count": null,
   "metadata": {},
   "outputs": [],
   "source": [
    "video_width_center = vw//2\n",
    "body_width_center =  body_outline_source.shape[1]//2"
   ]
  },
  {
   "cell_type": "code",
   "execution_count": null,
   "metadata": {},
   "outputs": [],
   "source": [
    "body_outline_mask = numpy.ones((vh,vw,3),dtype=numpy.uint8)\n",
    "for y in range(0,body_outline_source.shape[0],1):\n",
    "    for x in range(0,body_outline_source.shape[1],1):\n",
    "        if(body_outline_source[y,x]!=255):\n",
    "            body_outline_mask[y,video_width_center + (x - body_width_center),0] = 0\n",
    "            body_outline_mask[y,video_width_center + (x - body_width_center),1] = 0\n",
    "            body_outline_mask[y,video_width_center + (x - body_width_center),2] = 0\n",
    "body_outline_mask = cv2.resize(body_outline_mask,(512,512),cv2.INTER_NEAREST)\n",
    "body_outline_indicator = (1-body_outline_mask) * 255"
   ]
  },
  {
   "cell_type": "code",
   "execution_count": null,
   "metadata": {},
   "outputs": [],
   "source": [
    "def GenerateMask(img):\n",
    "    mask = numpy.zeros(img.shape)\n",
    "    contours, _ = cv2.findContours(\n",
    "        cv2.cvtColor(img, cv2.COLOR_BGR2GRAY),\n",
    "        cv2.RETR_EXTERNAL,\n",
    "        cv2.CHAIN_APPROX_NONE\n",
    "    )\n",
    "    contours = sorted(contours, key=cv2.contourArea, reverse= True)\n",
    "    cv2.drawContours(mask, contours, 0, color=(1,1,1), thickness=cv2.FILLED)\n",
    "    return mask"
   ]
  },
  {
   "cell_type": "code",
   "execution_count": null,
   "metadata": {},
   "outputs": [],
   "source": [
    "segmentor = SelfiSegmentation()"
   ]
  },
  {
   "cell_type": "code",
   "execution_count": null,
   "metadata": {},
   "outputs": [],
   "source": [
    "cv2.namedWindow(\"Camera Window\")\n",
    "img_counter = 0\n",
    "while True:\n",
    "    ret, frame = cam.read()\n",
    "    if not ret:\n",
    "        print(\"failed to grab frame\")\n",
    "        break\n",
    "\n",
    "    k = cv2.waitKey(1)\n",
    "    if k%256 == 27:\n",
    "        # ESC pressed\n",
    "        print(\"Escape hit, closing...\")\n",
    "        break\n",
    "    elif k%256 == 32:\n",
    "        # SPACE pressed\n",
    "        seg_img = segmentor.removeBG(frame, (0,0,0), threshold=0.7)\n",
    "\n",
    "        frame = cv2.resize(frame,(512,512),cv2.INTER_AREA)\n",
    "        seg_img = cv2.resize(seg_img,(512,512),cv2.INTER_AREA)\n",
    "\n",
    "        mask = GenerateMask(seg_img)\n",
    "\n",
    "        img_name = \"opencv_frame_{}.png\".format(img_counter)\n",
    "        cv2.imwrite(img_name, numpy.multiply(frame,mask))\n",
    "        cv2.imwrite(\"mask_\"+img_name, mask * 255)\n",
    "\n",
    "        print(\"{} written!\".format(img_name))\n",
    "        img_counter += 1\n",
    "    else:\n",
    "        frame = cv2.resize(frame,(512,512), cv2.INTER_AREA)\n",
    "        frame = numpy.multiply(frame,body_outline_mask) + body_outline_indicator\n",
    "        cv2.imshow(\"Camera Window\", frame)\n",
    "cam.release()\n",
    "cv2.destroyAllWindows()"
   ]
  }
 ],
 "metadata": {
  "interpreter": {
   "hash": "a9db727726af8bcc6b2a0c8576d819a831cea777e35791aef72c45bea7213144"
  },
  "kernelspec": {
   "display_name": "Python 3.8.12 ('ex_pifu')",
   "language": "python",
   "name": "python3"
  },
  "language_info": {
   "codemirror_mode": {
    "name": "ipython",
    "version": 3
   },
   "file_extension": ".py",
   "mimetype": "text/x-python",
   "name": "python",
   "nbconvert_exporter": "python",
   "pygments_lexer": "ipython3",
   "version": "3.8.12"
  }
 },
 "nbformat": 4,
 "nbformat_minor": 2
}
