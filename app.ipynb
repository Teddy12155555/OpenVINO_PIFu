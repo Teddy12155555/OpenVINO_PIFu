{
 "cells": [
  {
   "cell_type": "code",
   "execution_count": 1,
   "metadata": {},
   "outputs": [
    {
     "name": "stderr",
     "output_type": "stream",
     "text": [
      "WARNING: Ignoring invalid distribution -pencv-python (c:\\users\\micke\\appdata\\local\\programs\\python\\python37\\lib\\site-packages)\n",
      "WARNING: Ignoring invalid distribution -pencv-python (c:\\users\\micke\\appdata\\local\\programs\\python\\python37\\lib\\site-packages)\n",
      "ERROR: Could not find a version that satisfies the requirement cv2 (from versions: none)\n",
      "ERROR: No matching distribution found for cv2\n",
      "WARNING: Ignoring invalid distribution -pencv-python (c:\\users\\micke\\appdata\\local\\programs\\python\\python37\\lib\\site-packages)\n",
      "WARNING: Ignoring invalid distribution -pencv-python (c:\\users\\micke\\appdata\\local\\programs\\python\\python37\\lib\\site-packages)\n",
      "WARNING: Ignoring invalid distribution -pencv-python (c:\\users\\micke\\appdata\\local\\programs\\python\\python37\\lib\\site-packages)\n"
     ]
    },
    {
     "name": "stdout",
     "output_type": "stream",
     "text": [
      "Requirement already satisfied: numpy in c:\\users\\micke\\appdata\\roaming\\python\\python37\\site-packages (1.18.5)"
     ]
    },
    {
     "name": "stderr",
     "output_type": "stream",
     "text": [
      "WARNING: Ignoring invalid distribution -pencv-python (c:\\users\\micke\\appdata\\local\\programs\\python\\python37\\lib\\site-packages)\n",
      "WARNING: Ignoring invalid distribution -pencv-python (c:\\users\\micke\\appdata\\local\\programs\\python\\python37\\lib\\site-packages)\n",
      "WARNING: Ignoring invalid distribution -pencv-python (c:\\users\\micke\\appdata\\local\\programs\\python\\python37\\lib\\site-packages)\n",
      "WARNING: Ignoring invalid distribution -pencv-python (c:\\users\\micke\\appdata\\local\\programs\\python\\python37\\lib\\site-packages)\n",
      "WARNING: Ignoring invalid distribution -pencv-python (c:\\users\\micke\\appdata\\local\\programs\\python\\python37\\lib\\site-packages)\n",
      "WARNING: Ignoring invalid distribution -pencv-python (c:\\users\\micke\\appdata\\local\\programs\\python\\python37\\lib\\site-packages)\n"
     ]
    },
    {
     "name": "stdout",
     "output_type": "stream",
     "text": [
      "\n",
      "Collecting cvzone\n",
      "  Downloading cvzone-1.5.6.tar.gz (12 kB)\n",
      "  Preparing metadata (setup.py): started\n",
      "  Preparing metadata (setup.py): finished with status 'done'\n"
     ]
    },
    {
     "name": "stderr",
     "output_type": "stream",
     "text": [
      "WARNING: Ignoring invalid distribution -pencv-python (c:\\users\\micke\\appdata\\local\\programs\\python\\python37\\lib\\site-packages)\n",
      "WARNING: Ignoring invalid distribution -pencv-python (c:\\users\\micke\\appdata\\local\\programs\\python\\python37\\lib\\site-packages)\n",
      "WARNING: Ignoring invalid distribution -pencv-python (c:\\users\\micke\\appdata\\local\\programs\\python\\python37\\lib\\site-packages)\n",
      "WARNING: Ignoring invalid distribution -pencv-python (c:\\users\\micke\\appdata\\local\\programs\\python\\python37\\lib\\site-packages)\n",
      "WARNING: Ignoring invalid distribution -pencv-python (c:\\users\\micke\\appdata\\local\\programs\\python\\python37\\lib\\site-packages)\n",
      "WARNING: Ignoring invalid distribution -pencv-python (c:\\users\\micke\\appdata\\local\\programs\\python\\python37\\lib\\site-packages)\n",
      "WARNING: Ignoring invalid distribution -pencv-python (c:\\users\\micke\\appdata\\local\\programs\\python\\python37\\lib\\site-packages)\n"
     ]
    },
    {
     "name": "stdout",
     "output_type": "stream",
     "text": [
      "Requirement already satisfied: opencv-python in c:\\users\\micke\\appdata\\local\\programs\\python\\python37\\lib\\site-packages (from cvzone) (3.4.16.59)\n",
      "Requirement already satisfied: numpy in c:\\users\\micke\\appdata\\roaming\\python\\python37\\site-packages (from cvzone) (1.18.5)\n",
      "Building wheels for collected packages: cvzone\n",
      "  Building wheel for cvzone (setup.py): started\n",
      "  Building wheel for cvzone (setup.py): finished with status 'done'\n",
      "  Created wheel for cvzone: filename=cvzone-1.5.6-py3-none-any.whl size=18766 sha256=d0061389b17722dac909bc0de716291d6ea267e7db2a7a2346ff6e3c4086c5b2\n",
      "  Stored in directory: c:\\users\\micke\\appdata\\local\\pip\\cache\\wheels\\c1\\e8\\e9\\80f482161ba9f5dcf4832b76ac70540edd11a3136a58445c52\n",
      "Successfully built cvzone\n",
      "Installing collected packages: cvzone\n",
      "Successfully installed cvzone-1.5.6\n",
      "Collecting mediapipe\n",
      "  Downloading mediapipe-0.8.10-cp37-cp37m-win_amd64.whl (48.6 MB)\n",
      "     ---------------------------------------- 48.6/48.6 MB 8.1 MB/s eta 0:00:00\n",
      "Requirement already satisfied: attrs>=19.1.0 in c:\\users\\micke\\appdata\\local\\programs\\python\\python37\\lib\\site-packages (from mediapipe) (20.3.0)\n",
      "Requirement already satisfied: opencv-contrib-python in c:\\users\\micke\\appdata\\local\\programs\\python\\python37\\lib\\site-packages (from mediapipe) (4.5.4.60)\n",
      "Requirement already satisfied: absl-py in c:\\users\\micke\\appdata\\local\\programs\\python\\python37\\lib\\site-packages (from mediapipe) (0.11.0)\n",
      "Requirement already satisfied: matplotlib in c:\\users\\micke\\appdata\\local\\programs\\python\\python37\\lib\\site-packages (from mediapipe) (3.3.4)\n",
      "Requirement already satisfied: numpy in c:\\users\\micke\\appdata\\roaming\\python\\python37\\site-packages (from mediapipe) (1.18.5)\n",
      "Requirement already satisfied: protobuf>=3.11.4 in c:\\users\\micke\\appdata\\local\\programs\\python\\python37\\lib\\site-packages (from mediapipe) (3.15.4)\n",
      "Requirement already satisfied: six>=1.9 in c:\\users\\micke\\appdata\\local\\programs\\python\\python37\\lib\\site-packages (from protobuf>=3.11.4->mediapipe) (1.12.0)\n",
      "Requirement already satisfied: kiwisolver>=1.0.1 in c:\\users\\micke\\appdata\\local\\programs\\python\\python37\\lib\\site-packages (from matplotlib->mediapipe) (1.3.1)\n",
      "Requirement already satisfied: pyparsing!=2.0.4,!=2.1.2,!=2.1.6,>=2.0.3 in c:\\users\\micke\\appdata\\local\\programs\\python\\python37\\lib\\site-packages (from matplotlib->mediapipe) (2.4.7)\n",
      "Requirement already satisfied: python-dateutil>=2.1 in c:\\users\\micke\\appdata\\local\\programs\\python\\python37\\lib\\site-packages (from matplotlib->mediapipe) (2.8.1)\n",
      "Requirement already satisfied: cycler>=0.10 in c:\\users\\micke\\appdata\\local\\programs\\python\\python37\\lib\\site-packages (from matplotlib->mediapipe) (0.10.0)\n",
      "Requirement already satisfied: pillow>=6.2.0 in c:\\users\\micke\\appdata\\local\\programs\\python\\python37\\lib\\site-packages (from matplotlib->mediapipe) (8.1.2)\n",
      "Installing collected packages: mediapipe\n",
      "Successfully installed mediapipe-0.8.10\n"
     ]
    },
    {
     "name": "stderr",
     "output_type": "stream",
     "text": [
      "WARNING: Ignoring invalid distribution -pencv-python (c:\\users\\micke\\appdata\\local\\programs\\python\\python37\\lib\\site-packages)\n",
      "WARNING: Ignoring invalid distribution -pencv-python (c:\\users\\micke\\appdata\\local\\programs\\python\\python37\\lib\\site-packages)\n",
      "WARNING: Ignoring invalid distribution -pencv-python (c:\\users\\micke\\appdata\\local\\programs\\python\\python37\\lib\\site-packages)\n",
      "WARNING: Ignoring invalid distribution -pencv-python (c:\\users\\micke\\appdata\\local\\programs\\python\\python37\\lib\\site-packages)\n",
      "WARNING: Ignoring invalid distribution -pencv-python (c:\\users\\micke\\appdata\\local\\programs\\python\\python37\\lib\\site-packages)\n",
      "WARNING: Ignoring invalid distribution -pencv-python (c:\\users\\micke\\appdata\\local\\programs\\python\\python37\\lib\\site-packages)\n",
      "WARNING: Ignoring invalid distribution -pencv-python (c:\\users\\micke\\appdata\\local\\programs\\python\\python37\\lib\\site-packages)\n"
     ]
    },
    {
     "name": "stdout",
     "output_type": "stream",
     "text": [
      "Collecting protobuf==3.20.1\n",
      "  Downloading protobuf-3.20.1-cp37-cp37m-win_amd64.whl (905 kB)\n",
      "     -------------------------------------- 905.1/905.1 kB 2.1 MB/s eta 0:00:00\n",
      "Installing collected packages: protobuf\n",
      "  Attempting uninstall: protobuf\n",
      "    Found existing installation: protobuf 3.15.4\n",
      "    Uninstalling protobuf-3.15.4:\n",
      "      Successfully uninstalled protobuf-3.15.4\n",
      "Successfully installed protobuf-3.20.1\n"
     ]
    },
    {
     "name": "stderr",
     "output_type": "stream",
     "text": [
      "WARNING: Ignoring invalid distribution -pencv-python (c:\\users\\micke\\appdata\\local\\programs\\python\\python37\\lib\\site-packages)\n",
      "WARNING: Ignoring invalid distribution -pencv-python (c:\\users\\micke\\appdata\\local\\programs\\python\\python37\\lib\\site-packages)\n",
      "WARNING: Ignoring invalid distribution -pencv-python (c:\\users\\micke\\appdata\\local\\programs\\python\\python37\\lib\\site-packages)\n",
      "    WARNING: Ignoring invalid distribution -pencv-python (c:\\users\\micke\\appdata\\local\\programs\\python\\python37\\lib\\site-packages)\n",
      "WARNING: Ignoring invalid distribution -pencv-python (c:\\users\\micke\\appdata\\local\\programs\\python\\python37\\lib\\site-packages)\n",
      "ERROR: pip's dependency resolver does not currently take into account all the packages that are installed. This behaviour is the source of the following dependency conflicts.\n",
      "pytorch-lightning 1.2.10 requires tensorboard!=2.5.0,>=2.2.0, but you have tensorboard 1.15.0 which is incompatible.\n",
      "pytorch-lightning 1.2.10 requires tqdm>=4.41.0, but you have tqdm 4.28.1 which is incompatible.\n",
      "isr 2.2.0 requires tensorflow==2.0.0, but you have tensorflow 1.15.5 which is incompatible.\n",
      "WARNING: Ignoring invalid distribution -pencv-python (c:\\users\\micke\\appdata\\local\\programs\\python\\python37\\lib\\site-packages)\n",
      "WARNING: Ignoring invalid distribution -pencv-python (c:\\users\\micke\\appdata\\local\\programs\\python\\python37\\lib\\site-packages)\n",
      "WARNING: Ignoring invalid distribution -pencv-python (c:\\users\\micke\\appdata\\local\\programs\\python\\python37\\lib\\site-packages)\n"
     ]
    }
   ],
   "source": [
    "!pip3 install cv2\n",
    "!pip3 install numpy\n",
    "!pip3 install cvzone\n",
    "!pip3 install mediapipe\n",
    "!pip3 install protobuf==3.20.1"
   ]
  },
  {
   "cell_type": "code",
   "execution_count": 2,
   "metadata": {},
   "outputs": [],
   "source": [
    "import cv2\n",
    "import numpy\n",
    "from cvzone.SelfiSegmentationModule import SelfiSegmentation"
   ]
  },
  {
   "cell_type": "code",
   "execution_count": 12,
   "metadata": {},
   "outputs": [],
   "source": [
    "cam = cv2.VideoCapture(\"vid.mp4\")\n",
    "vw  = int(cam.get(cv2.CAP_PROP_FRAME_WIDTH))\n",
    "vh = int(cam.get(cv2.CAP_PROP_FRAME_HEIGHT))"
   ]
  },
  {
   "cell_type": "code",
   "execution_count": 13,
   "metadata": {},
   "outputs": [],
   "source": [
    "body_outline_source = cv2.imread(\"body_outline.png\",cv2.IMREAD_GRAYSCALE)\n",
    "body_outline_ratio = body_outline_source.shape[1]/body_outline_source.shape[0]\n",
    "body_outline_source = cv2.resize(\n",
    "    body_outline_source,\n",
    "    (int(body_outline_ratio*vh),vh),\n",
    "    cv2.INTER_AREA\n",
    ")"
   ]
  },
  {
   "cell_type": "code",
   "execution_count": 14,
   "metadata": {},
   "outputs": [],
   "source": [
    "video_width_center = vw//2\n",
    "body_width_center =  body_outline_source.shape[1]//2"
   ]
  },
  {
   "cell_type": "code",
   "execution_count": 15,
   "metadata": {},
   "outputs": [],
   "source": [
    "body_outline_mask = numpy.ones((vh,vw,3),dtype=numpy.uint8)\n",
    "for y in range(0,body_outline_source.shape[0],1):\n",
    "    for x in range(0,body_outline_source.shape[1],1):\n",
    "        if(body_outline_source[y,x]!=255):\n",
    "            body_outline_mask[y,video_width_center + (x - body_width_center),0] = 0\n",
    "            body_outline_mask[y,video_width_center + (x - body_width_center),1] = 0\n",
    "            body_outline_mask[y,video_width_center + (x - body_width_center),2] = 0\n",
    "body_outline_mask = cv2.resize(body_outline_mask,(512,512),cv2.INTER_NEAREST)\n",
    "body_outline_indicator = (1-body_outline_mask) * 255"
   ]
  },
  {
   "cell_type": "code",
   "execution_count": 16,
   "metadata": {},
   "outputs": [],
   "source": [
    "segmentor = SelfiSegmentation()"
   ]
  },
  {
   "cell_type": "code",
   "execution_count": 17,
   "metadata": {},
   "outputs": [
    {
     "name": "stdout",
     "output_type": "stream",
     "text": [
      "opencv_frame_0.png written!\n",
      "opencv_frame_1.png written!\n",
      "opencv_frame_2.png written!\n",
      "opencv_frame_3.png written!\n",
      "opencv_frame_4.png written!\n",
      "opencv_frame_5.png written!\n",
      "Escape hit, closing...\n"
     ]
    }
   ],
   "source": [
    "cv2.namedWindow(\"test\")\n",
    "img_counter = 0\n",
    "while True:\n",
    "    ret, frame = cam.read()\n",
    "    if not ret:\n",
    "        print(\"failed to grab frame\")\n",
    "        break\n",
    "\n",
    "    frame = cv2.resize(frame,(512,512), cv2.INTER_AREA)\n",
    "    frame = numpy.multiply(frame,body_outline_mask) + body_outline_indicator\n",
    "\n",
    "    cv2.imshow(\"test\", frame)\n",
    "\n",
    "    k = cv2.waitKey(1)\n",
    "    if k%256 == 27:\n",
    "        # ESC pressed\n",
    "        print(\"Escape hit, closing...\")\n",
    "        break\n",
    "    elif k%256 == 32:\n",
    "        # SPACE pressed\n",
    "        img_name = \"opencv_frame_{}.png\".format(img_counter)\n",
    "        cv2.imwrite(img_name, segmentor.removeBG(frame, (255,255,255), threshold=0.99))\n",
    "        print(\"{} written!\".format(img_name))\n",
    "        img_counter += 1\n",
    "\n",
    "cam.release()\n",
    "cv2.destroyAllWindows()"
   ]
  },
  {
   "cell_type": "code",
   "execution_count": null,
   "metadata": {},
   "outputs": [],
   "source": []
  },
  {
   "cell_type": "code",
   "execution_count": null,
   "metadata": {},
   "outputs": [],
   "source": []
  }
 ],
 "metadata": {
  "interpreter": {
   "hash": "da02af2b112eaaf386841fe33f79de9b18b236077b8366bdda4c0645235d2801"
  },
  "kernelspec": {
   "display_name": "Python 3",
   "language": "python",
   "name": "python3"
  },
  "language_info": {
   "codemirror_mode": {
    "name": "ipython",
    "version": 3
   },
   "file_extension": ".py",
   "mimetype": "text/x-python",
   "name": "python",
   "nbconvert_exporter": "python",
   "pygments_lexer": "ipython3",
   "version": "3.7.0"
  }
 },
 "nbformat": 4,
 "nbformat_minor": 2
}
